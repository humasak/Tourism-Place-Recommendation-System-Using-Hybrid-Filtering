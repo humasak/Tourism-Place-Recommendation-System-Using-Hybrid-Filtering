{
  "cells": [
    {
      "cell_type": "code",
      "execution_count": 1,
      "metadata": {
        "id": "LHXvEs0mjvJM"
      },
      "outputs": [],
      "source": [
        "%matplotlib inline\n",
        "\n",
        "import pandas as pd\n",
        "import numpy as np\n",
        "import nltk\n",
        "import string\n",
        "import matplotlib.pyplot as plt\n",
        "import seaborn as sns\n",
        "from google.colab import drive\n",
        "from sklearn.feature_extraction.text import TfidfTransformer\n",
        "from sklearn.feature_extraction.text import TfidfVectorizer\n",
        "from sklearn.metrics.pairwise import cosine_similarity\n",
        "\n",
        "from sklearn import metrics\n",
        "import re\n",
        "\n",
        "from tqdm import tqdm\n",
        "from numpy import sqrt \n",
        "from sklearn.metrics import mean_absolute_error\n",
        "from sklearn.metrics import mean_squared_error\n",
        "import math\n",
        "\n",
        "from sklearn.model_selection import train_test_split\n",
        "from sklearn.neighbors import KNeighborsClassifier"
      ]
    },
    {
      "cell_type": "code",
      "execution_count": 2,
      "metadata": {
        "id": "xzwFnbkmvv7P",
        "colab": {
          "base_uri": "https://localhost:8080/"
        },
        "outputId": "2c08bb9f-b244-4364-d0c0-bbce2951417f"
      },
      "outputs": [
        {
          "output_type": "stream",
          "name": "stdout",
          "text": [
            "Drive already mounted at /content/drive; to attempt to forcibly remount, call drive.mount(\"/content/drive\", force_remount=True).\n"
          ]
        }
      ],
      "source": [
        "#connect ke gdrive\n",
        "drive.mount('/content/drive')"
      ]
    },
    {
      "cell_type": "code",
      "execution_count": 3,
      "metadata": {
        "id": "iCsspLyjM_et",
        "colab": {
          "base_uri": "https://localhost:8080/",
          "height": 482
        },
        "outputId": "0c036426-f5b6-4472-8ee5-f741a1c810eb"
      },
      "outputs": [
        {
          "output_type": "execute_result",
          "data": {
            "text/plain": [
              "      reviewerId  placeId              destination_name  \\\n",
              "2519        2278       44     PASIR PUTIH LUMBAN BULBUL   \n",
              "491          485       17            pasir Putih Porsea   \n",
              "5504        3112       57  Pantai Lumban Bul-bul Balige   \n",
              "\n",
              "                                            description  category_name  \\\n",
              "2519  Pantai indah ini diberai nama sesuai nama desa...  wisata bahari   \n",
              "491   Pantai Pasir Putih Porsea sendiri sangat strat...  wisata bahari   \n",
              "5504  Tempat wisata di Toba Samosir yang kedua adala...  wisata bahari   \n",
              "\n",
              "                                        text           publishedAtDate  \\\n",
              "2519                                       .  2018-12-30T05:42:38.702Z   \n",
              "491   Minus jalan kurang bagus menuju lokasi  2019-01-02T07:26:57.704Z   \n",
              "5504                                       .  2019-06-09T10:04:54.038Z   \n",
              "\n",
              "      user_rating                                           overview  \n",
              "2519            4  wisata bahari pantai indah berai nama sesuai n...  \n",
              "491             4  wisata bahari pantai pasir putih porsea strate...  \n",
              "5504            5  wisata bahari wisata toba samosir wisata panta...  "
            ],
            "text/html": [
              "\n",
              "  <div id=\"df-2d0d5eee-1560-499b-9515-90d0acff962f\">\n",
              "    <div class=\"colab-df-container\">\n",
              "      <div>\n",
              "<style scoped>\n",
              "    .dataframe tbody tr th:only-of-type {\n",
              "        vertical-align: middle;\n",
              "    }\n",
              "\n",
              "    .dataframe tbody tr th {\n",
              "        vertical-align: top;\n",
              "    }\n",
              "\n",
              "    .dataframe thead th {\n",
              "        text-align: right;\n",
              "    }\n",
              "</style>\n",
              "<table border=\"1\" class=\"dataframe\">\n",
              "  <thead>\n",
              "    <tr style=\"text-align: right;\">\n",
              "      <th></th>\n",
              "      <th>reviewerId</th>\n",
              "      <th>placeId</th>\n",
              "      <th>destination_name</th>\n",
              "      <th>description</th>\n",
              "      <th>category_name</th>\n",
              "      <th>text</th>\n",
              "      <th>publishedAtDate</th>\n",
              "      <th>user_rating</th>\n",
              "      <th>overview</th>\n",
              "    </tr>\n",
              "  </thead>\n",
              "  <tbody>\n",
              "    <tr>\n",
              "      <th>2519</th>\n",
              "      <td>2278</td>\n",
              "      <td>44</td>\n",
              "      <td>PASIR PUTIH LUMBAN BULBUL</td>\n",
              "      <td>Pantai indah ini diberai nama sesuai nama desa...</td>\n",
              "      <td>wisata bahari</td>\n",
              "      <td>.</td>\n",
              "      <td>2018-12-30T05:42:38.702Z</td>\n",
              "      <td>4</td>\n",
              "      <td>wisata bahari pantai indah berai nama sesuai n...</td>\n",
              "    </tr>\n",
              "    <tr>\n",
              "      <th>491</th>\n",
              "      <td>485</td>\n",
              "      <td>17</td>\n",
              "      <td>pasir Putih Porsea</td>\n",
              "      <td>Pantai Pasir Putih Porsea sendiri sangat strat...</td>\n",
              "      <td>wisata bahari</td>\n",
              "      <td>Minus jalan kurang bagus menuju lokasi</td>\n",
              "      <td>2019-01-02T07:26:57.704Z</td>\n",
              "      <td>4</td>\n",
              "      <td>wisata bahari pantai pasir putih porsea strate...</td>\n",
              "    </tr>\n",
              "    <tr>\n",
              "      <th>5504</th>\n",
              "      <td>3112</td>\n",
              "      <td>57</td>\n",
              "      <td>Pantai Lumban Bul-bul Balige</td>\n",
              "      <td>Tempat wisata di Toba Samosir yang kedua adala...</td>\n",
              "      <td>wisata bahari</td>\n",
              "      <td>.</td>\n",
              "      <td>2019-06-09T10:04:54.038Z</td>\n",
              "      <td>5</td>\n",
              "      <td>wisata bahari wisata toba samosir wisata panta...</td>\n",
              "    </tr>\n",
              "  </tbody>\n",
              "</table>\n",
              "</div>\n",
              "      <button class=\"colab-df-convert\" onclick=\"convertToInteractive('df-2d0d5eee-1560-499b-9515-90d0acff962f')\"\n",
              "              title=\"Convert this dataframe to an interactive table.\"\n",
              "              style=\"display:none;\">\n",
              "        \n",
              "  <svg xmlns=\"http://www.w3.org/2000/svg\" height=\"24px\"viewBox=\"0 0 24 24\"\n",
              "       width=\"24px\">\n",
              "    <path d=\"M0 0h24v24H0V0z\" fill=\"none\"/>\n",
              "    <path d=\"M18.56 5.44l.94 2.06.94-2.06 2.06-.94-2.06-.94-.94-2.06-.94 2.06-2.06.94zm-11 1L8.5 8.5l.94-2.06 2.06-.94-2.06-.94L8.5 2.5l-.94 2.06-2.06.94zm10 10l.94 2.06.94-2.06 2.06-.94-2.06-.94-.94-2.06-.94 2.06-2.06.94z\"/><path d=\"M17.41 7.96l-1.37-1.37c-.4-.4-.92-.59-1.43-.59-.52 0-1.04.2-1.43.59L10.3 9.45l-7.72 7.72c-.78.78-.78 2.05 0 2.83L4 21.41c.39.39.9.59 1.41.59.51 0 1.02-.2 1.41-.59l7.78-7.78 2.81-2.81c.8-.78.8-2.07 0-2.86zM5.41 20L4 18.59l7.72-7.72 1.47 1.35L5.41 20z\"/>\n",
              "  </svg>\n",
              "      </button>\n",
              "      \n",
              "  <style>\n",
              "    .colab-df-container {\n",
              "      display:flex;\n",
              "      flex-wrap:wrap;\n",
              "      gap: 12px;\n",
              "    }\n",
              "\n",
              "    .colab-df-convert {\n",
              "      background-color: #E8F0FE;\n",
              "      border: none;\n",
              "      border-radius: 50%;\n",
              "      cursor: pointer;\n",
              "      display: none;\n",
              "      fill: #1967D2;\n",
              "      height: 32px;\n",
              "      padding: 0 0 0 0;\n",
              "      width: 32px;\n",
              "    }\n",
              "\n",
              "    .colab-df-convert:hover {\n",
              "      background-color: #E2EBFA;\n",
              "      box-shadow: 0px 1px 2px rgba(60, 64, 67, 0.3), 0px 1px 3px 1px rgba(60, 64, 67, 0.15);\n",
              "      fill: #174EA6;\n",
              "    }\n",
              "\n",
              "    [theme=dark] .colab-df-convert {\n",
              "      background-color: #3B4455;\n",
              "      fill: #D2E3FC;\n",
              "    }\n",
              "\n",
              "    [theme=dark] .colab-df-convert:hover {\n",
              "      background-color: #434B5C;\n",
              "      box-shadow: 0px 1px 3px 1px rgba(0, 0, 0, 0.15);\n",
              "      filter: drop-shadow(0px 1px 2px rgba(0, 0, 0, 0.3));\n",
              "      fill: #FFFFFF;\n",
              "    }\n",
              "  </style>\n",
              "\n",
              "      <script>\n",
              "        const buttonEl =\n",
              "          document.querySelector('#df-2d0d5eee-1560-499b-9515-90d0acff962f button.colab-df-convert');\n",
              "        buttonEl.style.display =\n",
              "          google.colab.kernel.accessAllowed ? 'block' : 'none';\n",
              "\n",
              "        async function convertToInteractive(key) {\n",
              "          const element = document.querySelector('#df-2d0d5eee-1560-499b-9515-90d0acff962f');\n",
              "          const dataTable =\n",
              "            await google.colab.kernel.invokeFunction('convertToInteractive',\n",
              "                                                     [key], {});\n",
              "          if (!dataTable) return;\n",
              "\n",
              "          const docLinkHtml = 'Like what you see? Visit the ' +\n",
              "            '<a target=\"_blank\" href=https://colab.research.google.com/notebooks/data_table.ipynb>data table notebook</a>'\n",
              "            + ' to learn more about interactive tables.';\n",
              "          element.innerHTML = '';\n",
              "          dataTable['output_type'] = 'display_data';\n",
              "          await google.colab.output.renderOutput(dataTable, element);\n",
              "          const docLink = document.createElement('div');\n",
              "          docLink.innerHTML = docLinkHtml;\n",
              "          element.appendChild(docLink);\n",
              "        }\n",
              "      </script>\n",
              "    </div>\n",
              "  </div>\n",
              "  "
            ]
          },
          "metadata": {},
          "execution_count": 3
        }
      ],
      "source": [
        "#load dataset\n",
        "dataset = pd.read_csv('/content/drive/MyDrive/KULIAH/TA-2/SIDANG/TASI-107/DATA/Data_Preprocessing.csv')\n",
        "dataset.sample(3)"
      ]
    },
    {
      "cell_type": "code",
      "execution_count": 4,
      "metadata": {
        "id": "zbWzoxDYjb2G"
      },
      "outputs": [],
      "source": [
        "feature =dataset[['placeId','overview']]\n",
        "x =feature\n",
        "y =dataset['user_rating']"
      ]
    },
    {
      "cell_type": "code",
      "execution_count": 5,
      "metadata": {
        "id": "Uxyl33AWjbyf",
        "colab": {
          "base_uri": "https://localhost:8080/",
          "height": 112
        },
        "outputId": "52df5cbc-4175-4f7d-9c42-a33914d654ce"
      },
      "outputs": [
        {
          "output_type": "execute_result",
          "data": {
            "text/plain": [
              "   placeId                                           overview\n",
              "0        1  wisata tani kebun dusun batu lamakdesa gurgur ...\n",
              "1        1  wisata tani kebun dusun batu lamakdesa gurgur ..."
            ],
            "text/html": [
              "\n",
              "  <div id=\"df-1d9e817d-59f4-45b6-b72f-1b910569b9d4\">\n",
              "    <div class=\"colab-df-container\">\n",
              "      <div>\n",
              "<style scoped>\n",
              "    .dataframe tbody tr th:only-of-type {\n",
              "        vertical-align: middle;\n",
              "    }\n",
              "\n",
              "    .dataframe tbody tr th {\n",
              "        vertical-align: top;\n",
              "    }\n",
              "\n",
              "    .dataframe thead th {\n",
              "        text-align: right;\n",
              "    }\n",
              "</style>\n",
              "<table border=\"1\" class=\"dataframe\">\n",
              "  <thead>\n",
              "    <tr style=\"text-align: right;\">\n",
              "      <th></th>\n",
              "      <th>placeId</th>\n",
              "      <th>overview</th>\n",
              "    </tr>\n",
              "  </thead>\n",
              "  <tbody>\n",
              "    <tr>\n",
              "      <th>0</th>\n",
              "      <td>1</td>\n",
              "      <td>wisata tani kebun dusun batu lamakdesa gurgur ...</td>\n",
              "    </tr>\n",
              "    <tr>\n",
              "      <th>1</th>\n",
              "      <td>1</td>\n",
              "      <td>wisata tani kebun dusun batu lamakdesa gurgur ...</td>\n",
              "    </tr>\n",
              "  </tbody>\n",
              "</table>\n",
              "</div>\n",
              "      <button class=\"colab-df-convert\" onclick=\"convertToInteractive('df-1d9e817d-59f4-45b6-b72f-1b910569b9d4')\"\n",
              "              title=\"Convert this dataframe to an interactive table.\"\n",
              "              style=\"display:none;\">\n",
              "        \n",
              "  <svg xmlns=\"http://www.w3.org/2000/svg\" height=\"24px\"viewBox=\"0 0 24 24\"\n",
              "       width=\"24px\">\n",
              "    <path d=\"M0 0h24v24H0V0z\" fill=\"none\"/>\n",
              "    <path d=\"M18.56 5.44l.94 2.06.94-2.06 2.06-.94-2.06-.94-.94-2.06-.94 2.06-2.06.94zm-11 1L8.5 8.5l.94-2.06 2.06-.94-2.06-.94L8.5 2.5l-.94 2.06-2.06.94zm10 10l.94 2.06.94-2.06 2.06-.94-2.06-.94-.94-2.06-.94 2.06-2.06.94z\"/><path d=\"M17.41 7.96l-1.37-1.37c-.4-.4-.92-.59-1.43-.59-.52 0-1.04.2-1.43.59L10.3 9.45l-7.72 7.72c-.78.78-.78 2.05 0 2.83L4 21.41c.39.39.9.59 1.41.59.51 0 1.02-.2 1.41-.59l7.78-7.78 2.81-2.81c.8-.78.8-2.07 0-2.86zM5.41 20L4 18.59l7.72-7.72 1.47 1.35L5.41 20z\"/>\n",
              "  </svg>\n",
              "      </button>\n",
              "      \n",
              "  <style>\n",
              "    .colab-df-container {\n",
              "      display:flex;\n",
              "      flex-wrap:wrap;\n",
              "      gap: 12px;\n",
              "    }\n",
              "\n",
              "    .colab-df-convert {\n",
              "      background-color: #E8F0FE;\n",
              "      border: none;\n",
              "      border-radius: 50%;\n",
              "      cursor: pointer;\n",
              "      display: none;\n",
              "      fill: #1967D2;\n",
              "      height: 32px;\n",
              "      padding: 0 0 0 0;\n",
              "      width: 32px;\n",
              "    }\n",
              "\n",
              "    .colab-df-convert:hover {\n",
              "      background-color: #E2EBFA;\n",
              "      box-shadow: 0px 1px 2px rgba(60, 64, 67, 0.3), 0px 1px 3px 1px rgba(60, 64, 67, 0.15);\n",
              "      fill: #174EA6;\n",
              "    }\n",
              "\n",
              "    [theme=dark] .colab-df-convert {\n",
              "      background-color: #3B4455;\n",
              "      fill: #D2E3FC;\n",
              "    }\n",
              "\n",
              "    [theme=dark] .colab-df-convert:hover {\n",
              "      background-color: #434B5C;\n",
              "      box-shadow: 0px 1px 3px 1px rgba(0, 0, 0, 0.15);\n",
              "      filter: drop-shadow(0px 1px 2px rgba(0, 0, 0, 0.3));\n",
              "      fill: #FFFFFF;\n",
              "    }\n",
              "  </style>\n",
              "\n",
              "      <script>\n",
              "        const buttonEl =\n",
              "          document.querySelector('#df-1d9e817d-59f4-45b6-b72f-1b910569b9d4 button.colab-df-convert');\n",
              "        buttonEl.style.display =\n",
              "          google.colab.kernel.accessAllowed ? 'block' : 'none';\n",
              "\n",
              "        async function convertToInteractive(key) {\n",
              "          const element = document.querySelector('#df-1d9e817d-59f4-45b6-b72f-1b910569b9d4');\n",
              "          const dataTable =\n",
              "            await google.colab.kernel.invokeFunction('convertToInteractive',\n",
              "                                                     [key], {});\n",
              "          if (!dataTable) return;\n",
              "\n",
              "          const docLinkHtml = 'Like what you see? Visit the ' +\n",
              "            '<a target=\"_blank\" href=https://colab.research.google.com/notebooks/data_table.ipynb>data table notebook</a>'\n",
              "            + ' to learn more about interactive tables.';\n",
              "          element.innerHTML = '';\n",
              "          dataTable['output_type'] = 'display_data';\n",
              "          await google.colab.output.renderOutput(dataTable, element);\n",
              "          const docLink = document.createElement('div');\n",
              "          docLink.innerHTML = docLinkHtml;\n",
              "          element.appendChild(docLink);\n",
              "        }\n",
              "      </script>\n",
              "    </div>\n",
              "  </div>\n",
              "  "
            ]
          },
          "metadata": {},
          "execution_count": 5
        }
      ],
      "source": [
        "feature.head(2)"
      ]
    },
    {
      "cell_type": "markdown",
      "source": [
        "## TRAIN:TEST = 60:40"
      ],
      "metadata": {
        "id": "SbHdLWWtJfQa"
      }
    },
    {
      "cell_type": "code",
      "execution_count": 6,
      "metadata": {
        "id": "ocz8axUUgaMN"
      },
      "outputs": [],
      "source": [
        "# split the data set into train and test\n",
        "x_train, x_test, y_train, y_test =train_test_split(x, y, test_size=0.4, random_state=4, stratify=y)"
      ]
    },
    {
      "cell_type": "code",
      "execution_count": 7,
      "metadata": {
        "id": "NfuYOApQgmy9",
        "colab": {
          "base_uri": "https://localhost:8080/"
        },
        "outputId": "572f2b51-90fa-4187-8ce8-2f170b3aef97"
      },
      "outputs": [
        {
          "output_type": "stream",
          "name": "stdout",
          "text": [
            "(6389, 2)\n",
            "(6389,)\n",
            "(4260, 2)\n",
            "(4260,)\n"
          ]
        }
      ],
      "source": [
        "print(x_train.shape)\n",
        "print(y_train.shape)\n",
        "print(x_test.shape)\n",
        "print(y_test.shape)"
      ]
    },
    {
      "cell_type": "code",
      "execution_count": 8,
      "metadata": {
        "id": "mxtDo7OggDln"
      },
      "outputs": [],
      "source": [
        "# Instantiate the vectorizer object\n",
        "tf_idf_vect = TfidfVectorizer(ngram_range=(1,2))\n",
        "\n",
        "# Fitting and transforming the vector\n",
        "train_tf_idf = tf_idf_vect.fit_transform(x_train['overview'])\n",
        "\n",
        "#test data\n",
        "test_tfidf=tf_idf_vect.transform(x_test['overview'])"
      ]
    },
    {
      "cell_type": "code",
      "source": [
        "# instantiate learning model (k = 3)\n",
        "model_cbf = KNeighborsClassifier(metric='cosine', n_neighbors= 3)\n",
        "\n",
        "# fitting the model on TfidfVectorizer train\n",
        "model_cbf.fit(train_tf_idf, y_train)\n",
        "\n",
        "# predict the response on the TfidfVectorizer train\n",
        "pred_tfidf = model_cbf.predict(test_tfidf)\n",
        "\n",
        "# evaluate\n",
        "mae = mean_absolute_error(y_test, pred_tfidf)\n",
        "mse = mean_squared_error(y_test, pred_tfidf)\n",
        "rmse = np.sqrt(mse)\n",
        "print(\"MAE: \", mae)\n",
        "print(\"RMSE: \", rmse)"
      ],
      "metadata": {
        "id": "pnz8Jz1u3CQ2",
        "colab": {
          "base_uri": "https://localhost:8080/"
        },
        "outputId": "8fc3621b-0007-4594-f7e3-e88f52a49232"
      },
      "execution_count": 9,
      "outputs": [
        {
          "output_type": "stream",
          "name": "stdout",
          "text": [
            "MAE:  0.6657276995305165\n",
            "RMSE:  1.1885604975507256\n"
          ]
        }
      ]
    },
    {
      "cell_type": "code",
      "source": [
        "# instantiate learning model (k = 5)\n",
        "model_cbf = KNeighborsClassifier(metric='cosine', n_neighbors= 5)\n",
        "\n",
        "# fitting the model on TfidfVectorizer train\n",
        "model_cbf.fit(train_tf_idf, y_train)\n",
        "\n",
        "# predict the response on the TfidfVectorizer train\n",
        "pred_tfidf = model_cbf.predict(test_tfidf)\n",
        "\n",
        "# evaluate\n",
        "mae = mean_absolute_error(y_test, pred_tfidf)\n",
        "mse = mean_squared_error(y_test, pred_tfidf)\n",
        "rmse = np.sqrt(mse)\n",
        "print(\"MAE: \", mae)\n",
        "print(\"RMSE: \", rmse)"
      ],
      "metadata": {
        "id": "-2YuBY3M36He",
        "colab": {
          "base_uri": "https://localhost:8080/"
        },
        "outputId": "509fe0c1-6205-44fb-b8c4-349be8d72b06"
      },
      "execution_count": 10,
      "outputs": [
        {
          "output_type": "stream",
          "name": "stdout",
          "text": [
            "MAE:  0.7948356807511737\n",
            "RMSE:  1.4017092182026791\n"
          ]
        }
      ]
    },
    {
      "cell_type": "code",
      "source": [
        "# instantiate learning model (k = 10)\n",
        "model_cbf = KNeighborsClassifier(metric='cosine', n_neighbors= 10)\n",
        "\n",
        "# fitting the model on TfidfVectorizer train\n",
        "model_cbf.fit(train_tf_idf, y_train)\n",
        "\n",
        "# predict the response on the TfidfVectorizer train\n",
        "pred_tfidf = model_cbf.predict(test_tfidf)\n",
        "\n",
        "# evaluate\n",
        "mae = mean_absolute_error(y_test, pred_tfidf)\n",
        "mse = mean_squared_error(y_test, pred_tfidf)\n",
        "rmse = np.sqrt(mse)\n",
        "print(\"MAE: \", mae)\n",
        "print(\"RMSE: \", rmse)"
      ],
      "metadata": {
        "id": "o_mCJc0768dO",
        "colab": {
          "base_uri": "https://localhost:8080/"
        },
        "outputId": "003f3f3a-09b5-4c95-99e6-3ffab57332a0"
      },
      "execution_count": 11,
      "outputs": [
        {
          "output_type": "stream",
          "name": "stdout",
          "text": [
            "MAE:  0.6133802816901408\n",
            "RMSE:  1.1679402840223696\n"
          ]
        }
      ]
    },
    {
      "cell_type": "code",
      "source": [
        "# instantiate learning model (k = 20)\n",
        "model_cbf = KNeighborsClassifier(metric='cosine', n_neighbors= 20)\n",
        "\n",
        "# fitting the model on TfidfVectorizer train\n",
        "model_cbf.fit(train_tf_idf, y_train)\n",
        "\n",
        "# predict the response on the TfidfVectorizer train\n",
        "pred_tfidf = model_cbf.predict(test_tfidf)\n",
        "\n",
        "# evaluate\n",
        "mae = mean_absolute_error(y_test, pred_tfidf)\n",
        "mse = mean_squared_error(y_test, pred_tfidf)\n",
        "rmse = np.sqrt(mse)\n",
        "print(\"MAE: \", mae)\n",
        "print(\"RMSE: \", rmse)"
      ],
      "metadata": {
        "id": "61EoeosbJb_i",
        "colab": {
          "base_uri": "https://localhost:8080/"
        },
        "outputId": "7f938d16-b23c-4d7a-83b8-f528bdf3161f"
      },
      "execution_count": 12,
      "outputs": [
        {
          "output_type": "stream",
          "name": "stdout",
          "text": [
            "MAE:  0.5913145539906103\n",
            "RMSE:  1.1535818886012905\n"
          ]
        }
      ]
    },
    {
      "cell_type": "code",
      "source": [
        "# instantiate learning model (k = 25)\n",
        "model_cbf = KNeighborsClassifier(metric='cosine', n_neighbors= 25)\n",
        "\n",
        "# fitting the model on TfidfVectorizer train\n",
        "model_cbf.fit(train_tf_idf, y_train)\n",
        "\n",
        "# predict the response on the TfidfVectorizer train\n",
        "pred_tfidf = model_cbf.predict(test_tfidf)\n",
        "\n",
        "# evaluate\n",
        "mae = mean_absolute_error(y_test, pred_tfidf)\n",
        "mse = mean_squared_error(y_test, pred_tfidf)\n",
        "rmse = np.sqrt(mse)\n",
        "print(\"MAE: \", mae)\n",
        "print(\"RMSE: \", rmse)"
      ],
      "metadata": {
        "id": "NyMrrJMhsxG6",
        "colab": {
          "base_uri": "https://localhost:8080/"
        },
        "outputId": "382948d9-92b2-4c26-f231-c238cc67a581"
      },
      "execution_count": 13,
      "outputs": [
        {
          "output_type": "stream",
          "name": "stdout",
          "text": [
            "MAE:  0.5908450704225352\n",
            "RMSE:  1.1556149918505174\n"
          ]
        }
      ]
    },
    {
      "cell_type": "code",
      "source": [
        "# instantiate learning model (k = 30)\n",
        "model_cbf = KNeighborsClassifier(metric='cosine', n_neighbors= 30)\n",
        "\n",
        "# fitting the model on TfidfVectorizer train\n",
        "model_cbf.fit(train_tf_idf, y_train)\n",
        "\n",
        "# predict the response on the TfidfVectorizer train\n",
        "pred_tfidf = model_cbf.predict(test_tfidf)\n",
        "\n",
        "# evaluate\n",
        "mae = mean_absolute_error(y_test, pred_tfidf)\n",
        "mse = mean_squared_error(y_test, pred_tfidf)\n",
        "rmse = np.sqrt(mse)\n",
        "print(\"MAE: \", mae)\n",
        "print(\"RMSE: \", rmse)"
      ],
      "metadata": {
        "id": "hi0IRpbpXWOa",
        "colab": {
          "base_uri": "https://localhost:8080/"
        },
        "outputId": "39cf2cd7-3f9a-4e21-ef07-e3c67a0ea7c7"
      },
      "execution_count": 14,
      "outputs": [
        {
          "output_type": "stream",
          "name": "stdout",
          "text": [
            "MAE:  0.5892018779342723\n",
            "RMSE:  1.154497228132341\n"
          ]
        }
      ]
    },
    {
      "cell_type": "markdown",
      "source": [
        "## TRAIN:TEST = 70:30"
      ],
      "metadata": {
        "id": "BBUgVW81JyHT"
      }
    },
    {
      "cell_type": "code",
      "execution_count": 15,
      "metadata": {
        "id": "b4qF3afBJyHT"
      },
      "outputs": [],
      "source": [
        "# split the data set into train and test\n",
        "x_train, x_test, y_train, y_test =train_test_split(x, y, test_size=0.3, random_state=4, stratify=y)"
      ]
    },
    {
      "cell_type": "code",
      "execution_count": 16,
      "metadata": {
        "id": "atnmtUrxJyHT",
        "colab": {
          "base_uri": "https://localhost:8080/"
        },
        "outputId": "573dcdd2-8879-486d-c28c-eb753bab29d8"
      },
      "outputs": [
        {
          "output_type": "stream",
          "name": "stdout",
          "text": [
            "(7454, 2)\n",
            "(7454,)\n",
            "(3195, 2)\n",
            "(3195,)\n"
          ]
        }
      ],
      "source": [
        "print(x_train.shape)\n",
        "print(y_train.shape)\n",
        "print(x_test.shape)\n",
        "print(y_test.shape)"
      ]
    },
    {
      "cell_type": "code",
      "execution_count": 17,
      "metadata": {
        "id": "0rd1RPMHJyHU"
      },
      "outputs": [],
      "source": [
        "# Instantiate the vectorizer object\n",
        "tf_idf_vect = TfidfVectorizer(ngram_range=(1,2))\n",
        "\n",
        "# Fitting and transforming the vector\n",
        "train_tf_idf = tf_idf_vect.fit_transform(x_train['overview'])\n",
        "\n",
        "#test data\n",
        "test_tfidf=tf_idf_vect.transform(x_test['overview'])"
      ]
    },
    {
      "cell_type": "code",
      "source": [
        "# instantiate learning model (k = 3)\n",
        "model_cbf = KNeighborsClassifier(metric='cosine', n_neighbors= 3)\n",
        "\n",
        "# fitting the model on TfidfVectorizer train\n",
        "model_cbf.fit(train_tf_idf, y_train)\n",
        "\n",
        "# predict the response on the TfidfVectorizer train\n",
        "pred_tfidf = model_cbf.predict(test_tfidf)\n",
        "\n",
        "# evaluate\n",
        "mae = mean_absolute_error(y_test, pred_tfidf)\n",
        "mse = mean_squared_error(y_test, pred_tfidf)\n",
        "rmse = np.sqrt(mse)\n",
        "print(\"MAE: \", mae)\n",
        "print(\"RMSE: \", rmse)"
      ],
      "metadata": {
        "id": "vFTbEXKKJyHV",
        "colab": {
          "base_uri": "https://localhost:8080/"
        },
        "outputId": "9875822b-a45d-4f22-fdd1-8ba38222a632"
      },
      "execution_count": 18,
      "outputs": [
        {
          "output_type": "stream",
          "name": "stdout",
          "text": [
            "MAE:  0.8378716744913928\n",
            "RMSE:  1.4785900317542824\n"
          ]
        }
      ]
    },
    {
      "cell_type": "code",
      "source": [
        "# instantiate learning model (k = 5)\n",
        "model_cbf = KNeighborsClassifier(metric='cosine', n_neighbors= 5)\n",
        "\n",
        "# fitting the model on TfidfVectorizer train\n",
        "model_cbf.fit(train_tf_idf, y_train)\n",
        "\n",
        "# predict the response on the TfidfVectorizer train\n",
        "pred_tfidf = model_cbf.predict(test_tfidf)\n",
        "\n",
        "# evaluate\n",
        "mae = mean_absolute_error(y_test, pred_tfidf)\n",
        "mse = mean_squared_error(y_test, pred_tfidf)\n",
        "rmse = np.sqrt(mse)\n",
        "print(\"MAE: \", mae)\n",
        "print(\"RMSE: \", rmse)"
      ],
      "metadata": {
        "id": "spiOUPc9JyHV",
        "colab": {
          "base_uri": "https://localhost:8080/"
        },
        "outputId": "07c30ae6-ece1-438f-fe6e-ac8f371070a9"
      },
      "execution_count": 19,
      "outputs": [
        {
          "output_type": "stream",
          "name": "stdout",
          "text": [
            "MAE:  0.7126760563380282\n",
            "RMSE:  1.238783794499616\n"
          ]
        }
      ]
    },
    {
      "cell_type": "code",
      "source": [
        "# instantiate learning model (k = 10)\n",
        "model_cbf = KNeighborsClassifier(metric='cosine', n_neighbors= 10)\n",
        "\n",
        "# fitting the model on TfidfVectorizer train\n",
        "model_cbf.fit(train_tf_idf, y_train)\n",
        "\n",
        "# predict the response on the TfidfVectorizer train\n",
        "pred_tfidf = model_cbf.predict(test_tfidf)\n",
        "\n",
        "# evaluate\n",
        "mae = mean_absolute_error(y_test, pred_tfidf)\n",
        "mse = mean_squared_error(y_test, pred_tfidf)\n",
        "rmse = np.sqrt(mse)\n",
        "print(\"MAE: \", mae)\n",
        "print(\"RMSE: \", rmse)"
      ],
      "metadata": {
        "id": "wlWEh_QHJyHV",
        "colab": {
          "base_uri": "https://localhost:8080/"
        },
        "outputId": "d8117725-6b07-46ee-c6a0-5e92322a1538"
      },
      "execution_count": 20,
      "outputs": [
        {
          "output_type": "stream",
          "name": "stdout",
          "text": [
            "MAE:  0.6516431924882629\n",
            "RMSE:  1.180435186720113\n"
          ]
        }
      ]
    },
    {
      "cell_type": "code",
      "source": [
        "# instantiate learning model (k = 20)\n",
        "model_cbf = KNeighborsClassifier(metric='cosine', n_neighbors= 20)\n",
        "\n",
        "# fitting the model on TfidfVectorizer train\n",
        "model_cbf.fit(train_tf_idf, y_train)\n",
        "\n",
        "# predict the response on the TfidfVectorizer train\n",
        "pred_tfidf = model_cbf.predict(test_tfidf)\n",
        "\n",
        "# evaluate\n",
        "mae = mean_absolute_error(y_test, pred_tfidf)\n",
        "mse = mean_squared_error(y_test, pred_tfidf)\n",
        "rmse = np.sqrt(mse)\n",
        "print(\"MAE: \", mae)\n",
        "print(\"RMSE: \", rmse)"
      ],
      "metadata": {
        "id": "Fvn41W_qJyHW",
        "colab": {
          "base_uri": "https://localhost:8080/"
        },
        "outputId": "89920d39-e3c6-4e4f-d734-eaa7126c1cdc"
      },
      "execution_count": 21,
      "outputs": [
        {
          "output_type": "stream",
          "name": "stdout",
          "text": [
            "MAE:  0.5890453834115806\n",
            "RMSE:  1.154158298134099\n"
          ]
        }
      ]
    },
    {
      "cell_type": "code",
      "source": [
        "# instantiate learning model (k = 25)\n",
        "model_cbf = KNeighborsClassifier(metric='cosine', n_neighbors= 25)\n",
        "\n",
        "# fitting the model on TfidfVectorizer train\n",
        "model_cbf.fit(train_tf_idf, y_train)\n",
        "\n",
        "# predict the response on the TfidfVectorizer train\n",
        "pred_tfidf = model_cbf.predict(test_tfidf)\n",
        "\n",
        "# evaluate\n",
        "mae = mean_absolute_error(y_test, pred_tfidf)\n",
        "mse = mean_squared_error(y_test, pred_tfidf)\n",
        "rmse = np.sqrt(mse)\n",
        "print(\"MAE: \", mae)\n",
        "print(\"RMSE: \", rmse)"
      ],
      "metadata": {
        "colab": {
          "base_uri": "https://localhost:8080/"
        },
        "id": "WOuV1NV5s4Kk",
        "outputId": "e5326fda-2fa3-49ca-db3e-cf72b15ff68d"
      },
      "execution_count": 22,
      "outputs": [
        {
          "output_type": "stream",
          "name": "stdout",
          "text": [
            "MAE:  0.5887323943661972\n",
            "RMSE:  1.154565002192579\n"
          ]
        }
      ]
    },
    {
      "cell_type": "code",
      "source": [
        "# instantiate learning model (k = 30)\n",
        "model_cbf = KNeighborsClassifier(metric='cosine', n_neighbors= 30)\n",
        "\n",
        "# fitting the model on TfidfVectorizer train\n",
        "model_cbf.fit(train_tf_idf, y_train)\n",
        "\n",
        "# predict the response on the TfidfVectorizer train\n",
        "pred_tfidf = model_cbf.predict(test_tfidf)\n",
        "\n",
        "# evaluate\n",
        "mae = mean_absolute_error(y_test, pred_tfidf)\n",
        "mse = mean_squared_error(y_test, pred_tfidf)\n",
        "rmse = np.sqrt(mse)\n",
        "print(\"MAE: \", mae)\n",
        "print(\"RMSE: \", rmse)"
      ],
      "metadata": {
        "colab": {
          "base_uri": "https://localhost:8080/"
        },
        "id": "beG7RFG8yhxY",
        "outputId": "d5dda80c-7aee-41a4-dba2-0943f9bbe6f4"
      },
      "execution_count": 23,
      "outputs": [
        {
          "output_type": "stream",
          "name": "stdout",
          "text": [
            "MAE:  0.5887323943661972\n",
            "RMSE:  1.1559196489124077\n"
          ]
        }
      ]
    },
    {
      "cell_type": "markdown",
      "source": [
        "## TRAIN:TEST = 80:20"
      ],
      "metadata": {
        "id": "1Xe7qk7QJ1vr"
      }
    },
    {
      "cell_type": "code",
      "execution_count": 24,
      "metadata": {
        "id": "e2gPW-wRJ1vy"
      },
      "outputs": [],
      "source": [
        "# split the data set into train and test\n",
        "x_train, x_test, y_train, y_test =train_test_split(x, y, test_size=0.2, random_state=4, stratify=y)"
      ]
    },
    {
      "cell_type": "code",
      "execution_count": 25,
      "metadata": {
        "id": "mFEJjK7HJ1vy",
        "colab": {
          "base_uri": "https://localhost:8080/"
        },
        "outputId": "5a2bbd81-e8b8-41de-ef06-5d56661255b4"
      },
      "outputs": [
        {
          "output_type": "stream",
          "name": "stdout",
          "text": [
            "(8519, 2)\n",
            "(8519,)\n",
            "(2130, 2)\n",
            "(2130,)\n"
          ]
        }
      ],
      "source": [
        "print(x_train.shape)\n",
        "print(y_train.shape)\n",
        "print(x_test.shape)\n",
        "print(y_test.shape)"
      ]
    },
    {
      "cell_type": "code",
      "execution_count": 26,
      "metadata": {
        "id": "qii__vG_J1vy"
      },
      "outputs": [],
      "source": [
        "# Instantiate the vectorizer object\n",
        "tf_idf_vect = TfidfVectorizer(ngram_range=(1,2))\n",
        "\n",
        "# Fitting and transforming the vector\n",
        "train_tf_idf = tf_idf_vect.fit_transform(x_train['overview'])\n",
        "\n",
        "#test data\n",
        "test_tfidf=tf_idf_vect.transform(x_test['overview'])"
      ]
    },
    {
      "cell_type": "code",
      "source": [
        "train_tf_idf"
      ],
      "metadata": {
        "id": "oVjzoVLzJ1vy",
        "colab": {
          "base_uri": "https://localhost:8080/"
        },
        "outputId": "1f81740f-0214-40a0-ddfe-621ef18f6d2b"
      },
      "execution_count": 27,
      "outputs": [
        {
          "output_type": "execute_result",
          "data": {
            "text/plain": [
              "<8519x30213 sparse matrix of type '<class 'numpy.float64'>'\n",
              "\twith 997243 stored elements in Compressed Sparse Row format>"
            ]
          },
          "metadata": {},
          "execution_count": 27
        }
      ]
    },
    {
      "cell_type": "code",
      "source": [
        "test_tfidf"
      ],
      "metadata": {
        "id": "vACSeQkRJ1vy",
        "colab": {
          "base_uri": "https://localhost:8080/"
        },
        "outputId": "b12d1716-9eae-4fb2-856a-5c36ec8e8c52"
      },
      "execution_count": 28,
      "outputs": [
        {
          "output_type": "execute_result",
          "data": {
            "text/plain": [
              "<2130x30213 sparse matrix of type '<class 'numpy.float64'>'\n",
              "\twith 243065 stored elements in Compressed Sparse Row format>"
            ]
          },
          "metadata": {},
          "execution_count": 28
        }
      ]
    },
    {
      "cell_type": "code",
      "source": [
        "print(train_tf_idf[3,:].toarray()[0])"
      ],
      "metadata": {
        "id": "xBbj4TG1J1vz",
        "colab": {
          "base_uri": "https://localhost:8080/"
        },
        "outputId": "85394057-1cf6-4f53-ae6c-e6f0413e9233"
      },
      "execution_count": 29,
      "outputs": [
        {
          "output_type": "stream",
          "name": "stdout",
          "text": [
            "[0. 0. 0. ... 0. 0. 0.]\n"
          ]
        }
      ]
    },
    {
      "cell_type": "code",
      "source": [
        "# instantiate learning model (k = 3)\n",
        "model_cbf = KNeighborsClassifier(metric='cosine', n_neighbors= 3)\n",
        "\n",
        "# fitting the model on TfidfVectorizer train\n",
        "model_cbf.fit(train_tf_idf, y_train)\n",
        "\n",
        "# predict the response on the TfidfVectorizer train\n",
        "pred_tfidf = model_cbf.predict(test_tfidf)\n",
        "\n",
        "# evaluate\n",
        "mae = mean_absolute_error(y_test, pred_tfidf)\n",
        "mse = mean_squared_error(y_test, pred_tfidf)\n",
        "rmse = np.sqrt(mse)\n",
        "print(\"MAE: \", mae)\n",
        "print(\"RMSE: \", rmse)"
      ],
      "metadata": {
        "id": "kbsWWWT_J1vz",
        "colab": {
          "base_uri": "https://localhost:8080/"
        },
        "outputId": "bad287af-ded0-4e67-b5b8-34d330999251"
      },
      "execution_count": 30,
      "outputs": [
        {
          "output_type": "stream",
          "name": "stdout",
          "text": [
            "MAE:  1.1690140845070423\n",
            "RMSE:  1.8336960802035844\n"
          ]
        }
      ]
    },
    {
      "cell_type": "code",
      "source": [
        "# instantiate learning model (k = 5)\n",
        "model_cbf = KNeighborsClassifier(metric='cosine', n_neighbors= 5)\n",
        "\n",
        "# fitting the model on TfidfVectorizer train\n",
        "model_cbf.fit(train_tf_idf, y_train)\n",
        "\n",
        "# predict the response on the TfidfVectorizer train\n",
        "pred_tfidf = model_cbf.predict(test_tfidf)\n",
        "\n",
        "# evaluate\n",
        "mae = mean_absolute_error(y_test, pred_tfidf)\n",
        "mse = mean_squared_error(y_test, pred_tfidf)\n",
        "rmse = np.sqrt(mse)\n",
        "print(\"MAE: \", mae)\n",
        "print(\"RMSE: \", rmse)"
      ],
      "metadata": {
        "id": "ZkntdmDmJ1vz",
        "colab": {
          "base_uri": "https://localhost:8080/"
        },
        "outputId": "98b19e0a-8128-485b-f63b-42c2e458bdf6"
      },
      "execution_count": 31,
      "outputs": [
        {
          "output_type": "stream",
          "name": "stdout",
          "text": [
            "MAE:  0.704225352112676\n",
            "RMSE:  1.2496008752469088\n"
          ]
        }
      ]
    },
    {
      "cell_type": "code",
      "source": [
        "# instantiate learning model (k = 10)\n",
        "model_cbf = KNeighborsClassifier(metric='cosine', n_neighbors= 10)\n",
        "\n",
        "# fitting the model on TfidfVectorizer train\n",
        "model_cbf.fit(train_tf_idf, y_train)\n",
        "\n",
        "# predict the response on the TfidfVectorizer train\n",
        "pred_tfidf = model_cbf.predict(test_tfidf)\n",
        "\n",
        "# evaluate\n",
        "mae = mean_absolute_error(y_test, pred_tfidf)\n",
        "mse = mean_squared_error(y_test, pred_tfidf)\n",
        "rmse = np.sqrt(mse)\n",
        "print(\"MAE: \", mae)\n",
        "print(\"RMSE: \", rmse)"
      ],
      "metadata": {
        "id": "6b3-odaRJ1vz",
        "colab": {
          "base_uri": "https://localhost:8080/"
        },
        "outputId": "033d125b-c011-498d-a420-b21394f091e4"
      },
      "execution_count": 32,
      "outputs": [
        {
          "output_type": "stream",
          "name": "stdout",
          "text": [
            "MAE:  0.6084507042253521\n",
            "RMSE:  1.1628037994676221\n"
          ]
        }
      ]
    },
    {
      "cell_type": "code",
      "source": [
        "# instantiate learning model (k = 20)\n",
        "model_cbf = KNeighborsClassifier(metric='cosine', n_neighbors= 20)\n",
        "\n",
        "# fitting the model on TfidfVectorizer train\n",
        "model_cbf.fit(train_tf_idf, y_train)\n",
        "\n",
        "# predict the response on the TfidfVectorizer train\n",
        "pred_tfidf = model_cbf.predict(test_tfidf)\n",
        "\n",
        "# evaluate\n",
        "mae = mean_absolute_error(y_test, pred_tfidf)\n",
        "mse = mean_squared_error(y_test, pred_tfidf)\n",
        "rmse = np.sqrt(mse)\n",
        "print(\"MAE: \", mae)\n",
        "print(\"RMSE: \", rmse)"
      ],
      "metadata": {
        "id": "0K6ai5EJJ1v0",
        "colab": {
          "base_uri": "https://localhost:8080/"
        },
        "outputId": "dac02870-9fc2-4019-d1da-a4f9700e79bf"
      },
      "execution_count": 33,
      "outputs": [
        {
          "output_type": "stream",
          "name": "stdout",
          "text": [
            "MAE:  0.5887323943661972\n",
            "RMSE:  1.153480139371668\n"
          ]
        }
      ]
    },
    {
      "cell_type": "code",
      "source": [
        "# instantiate learning model (k = 25)\n",
        "model_cbf = KNeighborsClassifier(metric='cosine', n_neighbors= 25)\n",
        "\n",
        "# fitting the model on TfidfVectorizer train\n",
        "model_cbf.fit(train_tf_idf, y_train)\n",
        "\n",
        "# predict the response on the TfidfVectorizer train\n",
        "pred_tfidf = model_cbf.predict(test_tfidf)\n",
        "\n",
        "# evaluate\n",
        "mae = mean_absolute_error(y_test, pred_tfidf)\n",
        "mse = mean_squared_error(y_test, pred_tfidf)\n",
        "rmse = np.sqrt(mse)\n",
        "print(\"MAE: \", mae)\n",
        "print(\"RMSE: \", rmse)"
      ],
      "metadata": {
        "colab": {
          "base_uri": "https://localhost:8080/"
        },
        "id": "oH4iBnnos8Xs",
        "outputId": "e73689e4-ba1d-4a5f-f14b-d5565f672d62"
      },
      "execution_count": 34,
      "outputs": [
        {
          "output_type": "stream",
          "name": "stdout",
          "text": [
            "MAE:  0.5877934272300469\n",
            "RMSE:  1.1526658221933113\n"
          ]
        }
      ]
    },
    {
      "cell_type": "code",
      "source": [
        "# instantiate learning model (k = 30)\n",
        "model_cbf = KNeighborsClassifier(metric='cosine', n_neighbors= 30)\n",
        "\n",
        "# fitting the model on TfidfVectorizer train\n",
        "model_cbf.fit(train_tf_idf, y_train)\n",
        "\n",
        "# predict the response on the TfidfVectorizer train\n",
        "pred_tfidf = model_cbf.predict(test_tfidf)\n",
        "\n",
        "# evaluate\n",
        "mae = mean_absolute_error(y_test, pred_tfidf)\n",
        "mse = mean_squared_error(y_test, pred_tfidf)\n",
        "rmse = np.sqrt(mse)\n",
        "print(\"MAE: \", mae)\n",
        "print(\"RMSE: \", rmse)"
      ],
      "metadata": {
        "colab": {
          "base_uri": "https://localhost:8080/"
        },
        "id": "n459SQecylaA",
        "outputId": "3c21ee3c-112d-4146-992b-bfdce4f23d8a"
      },
      "execution_count": 35,
      "outputs": [
        {
          "output_type": "stream",
          "name": "stdout",
          "text": [
            "MAE:  0.5882629107981221\n",
            "RMSE:  1.154497228132341\n"
          ]
        }
      ]
    },
    {
      "cell_type": "markdown",
      "source": [
        "## TRAIN:TEST = 90:10"
      ],
      "metadata": {
        "id": "C1FIN0_SKDTq"
      }
    },
    {
      "cell_type": "code",
      "execution_count": 36,
      "metadata": {
        "id": "JjF4xufJKDTw"
      },
      "outputs": [],
      "source": [
        "# split the data set into train and test\n",
        "x_train, x_test, y_train, y_test =train_test_split(x, y, test_size=0.1, random_state=4, stratify=y)"
      ]
    },
    {
      "cell_type": "code",
      "execution_count": 37,
      "metadata": {
        "id": "rSf9NtL5KDTw",
        "colab": {
          "base_uri": "https://localhost:8080/"
        },
        "outputId": "5709d486-4028-48eb-90cf-64ef6bd159e9"
      },
      "outputs": [
        {
          "output_type": "stream",
          "name": "stdout",
          "text": [
            "(9584, 2)\n",
            "(9584,)\n",
            "(1065, 2)\n",
            "(1065,)\n"
          ]
        }
      ],
      "source": [
        "print(x_train.shape)\n",
        "print(y_train.shape)\n",
        "print(x_test.shape)\n",
        "print(y_test.shape)"
      ]
    },
    {
      "cell_type": "code",
      "execution_count": 38,
      "metadata": {
        "id": "SrRS5v7cKDTx"
      },
      "outputs": [],
      "source": [
        "# instantiate the vectorizer object\n",
        "tf_idf_vect = TfidfVectorizer(ngram_range=(1,2))\n",
        "\n",
        "# Fitting and transforming the vector\n",
        "train_tf_idf = tf_idf_vect.fit_transform(x_train['overview'])\n",
        "\n",
        "#test data\n",
        "test_tfidf=tf_idf_vect.transform(x_test['overview'])"
      ]
    },
    {
      "cell_type": "code",
      "source": [
        "# instantiate learning model (k = 3)\n",
        "model_cbf = KNeighborsClassifier(metric='cosine', n_neighbors= 3)\n",
        "\n",
        "# fitting the model on TfidfVectorizer train\n",
        "model_cbf.fit(train_tf_idf, y_train)\n",
        "\n",
        "# predict the response on the TfidfVectorizer train\n",
        "pred_tfidf = model_cbf.predict(test_tfidf)\n",
        "\n",
        "# evaluate\n",
        "mae = mean_absolute_error(y_test, pred_tfidf)\n",
        "mse = mean_squared_error(y_test, pred_tfidf)\n",
        "rmse = np.sqrt(mse)\n",
        "print(\"MAE: \", mae)\n",
        "print(\"RMSE: \", rmse)"
      ],
      "metadata": {
        "id": "0l4bwXxbKDTx",
        "colab": {
          "base_uri": "https://localhost:8080/"
        },
        "outputId": "7e795333-bd96-4109-805b-ab233e8cc279"
      },
      "execution_count": 42,
      "outputs": [
        {
          "output_type": "stream",
          "name": "stdout",
          "text": [
            "MAE:  0.7915492957746478\n",
            "RMSE:  1.319766660269415\n"
          ]
        }
      ]
    },
    {
      "cell_type": "code",
      "source": [
        "# instantiate learning model (k = 5)\n",
        "model_cbf = KNeighborsClassifier(metric='cosine', n_neighbors= 5)\n",
        "\n",
        "# fitting the model on TfidfVectorizer train\n",
        "model_cbf.fit(train_tf_idf, y_train)\n",
        "\n",
        "# predict the response on the TfidfVectorizer train\n",
        "pred_tfidf = model_cbf.predict(test_tfidf)\n",
        "\n",
        "# evaluate\n",
        "mae = mean_absolute_error(y_test, pred_tfidf)\n",
        "mse = mean_squared_error(y_test, pred_tfidf)\n",
        "rmse = np.sqrt(mse)\n",
        "print(\"MAE: \", mae)\n",
        "print(\"RMSE: \", rmse)"
      ],
      "metadata": {
        "id": "mU2rZBneKDTy",
        "colab": {
          "base_uri": "https://localhost:8080/"
        },
        "outputId": "b1ba3d33-7cf4-49f7-f7a7-f141e6ec64be"
      },
      "execution_count": 43,
      "outputs": [
        {
          "output_type": "stream",
          "name": "stdout",
          "text": [
            "MAE:  0.7014084507042253\n",
            "RMSE:  1.2253197340711628\n"
          ]
        }
      ]
    },
    {
      "cell_type": "code",
      "source": [
        "# instantiate learning model (k = 10)\n",
        "model_cbf = KNeighborsClassifier(metric='cosine', n_neighbors= 10)\n",
        "\n",
        "# fitting the model on TfidfVectorizer train\n",
        "model_cbf.fit(train_tf_idf, y_train)\n",
        "\n",
        "# predict the response on the TfidfVectorizer train\n",
        "pred_tfidf = model_cbf.predict(test_tfidf)\n",
        "\n",
        "# evaluate\n",
        "mae = mean_absolute_error(y_test, pred_tfidf)\n",
        "mse = mean_squared_error(y_test, pred_tfidf)\n",
        "rmse = np.sqrt(mse)\n",
        "print(\"MAE: \", mae)\n",
        "print(\"RMSE: \", rmse)"
      ],
      "metadata": {
        "id": "Qi9CyhA7KDTy",
        "colab": {
          "base_uri": "https://localhost:8080/"
        },
        "outputId": "f1579f9c-964d-4696-b0b7-6c9e4073eab2"
      },
      "execution_count": 44,
      "outputs": [
        {
          "output_type": "stream",
          "name": "stdout",
          "text": [
            "MAE:  0.6507042253521127\n",
            "RMSE:  1.1728541488437911\n"
          ]
        }
      ]
    },
    {
      "cell_type": "code",
      "source": [
        "# instantiate learning model (k = 20)\n",
        "model_cbf = KNeighborsClassifier(metric='cosine', n_neighbors= 20)\n",
        "\n",
        "# fitting the model on TfidfVectorizer train\n",
        "model_cbf.fit(train_tf_idf, y_train)\n",
        "\n",
        "# predict the response on the TfidfVectorizer train\n",
        "pred_tfidf = model_cbf.predict(test_tfidf)\n",
        "\n",
        "# evaluate\n",
        "mae = mean_absolute_error(y_test, pred_tfidf)\n",
        "mse = mean_squared_error(y_test, pred_tfidf)\n",
        "rmse = np.sqrt(mse)\n",
        "print(\"MAE: \", mae)\n",
        "print(\"RMSE: \", rmse)"
      ],
      "metadata": {
        "colab": {
          "base_uri": "https://localhost:8080/"
        },
        "id": "Ix2IKgPtWOTq",
        "outputId": "cfc8a35c-a25d-4bbb-f8c3-1d1c0a3953df"
      },
      "execution_count": 45,
      "outputs": [
        {
          "output_type": "stream",
          "name": "stdout",
          "text": [
            "MAE:  0.5953051643192488\n",
            "RMSE:  1.1514432666198242\n"
          ]
        }
      ]
    },
    {
      "cell_type": "code",
      "source": [
        "# instantiate learning model (k = 25)\n",
        "model_cbf = KNeighborsClassifier(metric='cosine', n_neighbors= 25)\n",
        "\n",
        "# fitting the model on TfidfVectorizer train\n",
        "model_cbf.fit(train_tf_idf, y_train)\n",
        "\n",
        "# predict the response on the TfidfVectorizer train\n",
        "pred_tfidf = model_cbf.predict(test_tfidf)\n",
        "\n",
        "# evaluate\n",
        "mae = mean_absolute_error(y_test, pred_tfidf)\n",
        "mse = mean_squared_error(y_test, pred_tfidf)\n",
        "rmse = np.sqrt(mse)\n",
        "print(\"MAE: \", mae)\n",
        "print(\"RMSE: \", rmse)"
      ],
      "metadata": {
        "colab": {
          "base_uri": "https://localhost:8080/"
        },
        "id": "wAW2A74ftABY",
        "outputId": "85c2ae7d-a749-4d68-d827-0baca8c69c0c"
      },
      "execution_count": 46,
      "outputs": [
        {
          "output_type": "stream",
          "name": "stdout",
          "text": [
            "MAE:  0.5943661971830986\n",
            "RMSE:  1.1607832874294783\n"
          ]
        }
      ]
    },
    {
      "cell_type": "code",
      "source": [
        "# instantiate learning model (k = 30)\n",
        "model_cbf = KNeighborsClassifier(metric='cosine', n_neighbors= 30)\n",
        "\n",
        "# fitting the model on TfidfVectorizer train\n",
        "model_cbf.fit(train_tf_idf, y_train)\n",
        "\n",
        "# predict the response on the TfidfVectorizer train\n",
        "pred_tfidf = model_cbf.predict(test_tfidf)\n",
        "\n",
        "# evaluate\n",
        "mae = mean_absolute_error(y_test, pred_tfidf)\n",
        "mse = mean_squared_error(y_test, pred_tfidf)\n",
        "rmse = np.sqrt(mse)\n",
        "print(\"MAE: \", mae)\n",
        "print(\"RMSE: \", rmse)"
      ],
      "metadata": {
        "id": "dKRFzC8PKDTy",
        "colab": {
          "base_uri": "https://localhost:8080/"
        },
        "outputId": "e89dd746-9309-4d5f-c3c7-97363101ee5d"
      },
      "execution_count": 47,
      "outputs": [
        {
          "output_type": "stream",
          "name": "stdout",
          "text": [
            "MAE:  0.5943661971830986\n",
            "RMSE:  1.1615919139904027\n"
          ]
        }
      ]
    }
  ],
  "metadata": {
    "colab": {
      "collapsed_sections": [
        "aLCUZFHyMVpt"
      ],
      "name": "Implementasi-CBF.ipynb",
      "provenance": []
    },
    "kernelspec": {
      "display_name": "Python 3",
      "name": "python3"
    },
    "language_info": {
      "name": "python"
    }
  },
  "nbformat": 4,
  "nbformat_minor": 0
}